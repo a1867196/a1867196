{
 "cells": [
  {
   "cell_type": "markdown",
   "metadata": {},
   "source": [
    "# B | Module Test"
   ]
  },
  {
   "cell_type": "markdown",
   "metadata": {},
   "source": [
    "<!-- BEGIN QUESTION -->\n",
    "## Part I - Core Questions\n",
    "\n",
    "### Question 1&nbsp;&nbsp;&nbsp;&nbsp;&nbsp;&nbsp;(15 Points)"
   ]
  },
  {
   "cell_type": "raw",
   "metadata": {
    "tags": []
   },
   "source": [
    "# Write your shell and git commands here \n",
    "mkdir qn-1\n",
    "mkdir qn-2\n",
    "mkdir qn-3\n",
    "mkdir qn-4\n",
    "mkdir qn-5\n",
    "cd qn-1\n",
    "touch submit.txt\n",
    "echo 'Before submitting, check that you have added the' > submit.txt\n",
    "echo 'following files to your GitHub repository:' >> submit.txt\n",
    "echo '- your Jupyter Notebook, and' >> submit.txt\n",
    "echo '- all files and directories created during the module test'>>submit.txt\n",
    "\n",
    "git init\n",
    "git add qn-1 qn-2 qn-3 qn-4 qn-5 submit.txt\n",
    "git commit -m \"A message about what's changed in this revision\"\n",
    "git push\n",
    "git status"
   ]
  },
  {
   "cell_type": "markdown",
   "metadata": {},
   "source": [
    "<!-- BEGIN QUESTION -->\n",
    "\n",
    "### Question 2&nbsp;&nbsp;&nbsp;&nbsp;&nbsp;&nbsp;(15 Points)"
   ]
  },
  {
   "cell_type": "markdown",
   "metadata": {
    "tags": []
   },
   "source": [
    "Your solution to this question should be a file, **explore.sh**, added to your GitHub repository."
   ]
  },
  {
   "cell_type": "raw",
   "metadata": {},
   "source": [
    "# Write your shell and git commands here \n",
    "(#)cd qn-2\n",
    "touch explore.sh\n",
    "\n",
    "(#)TEST ='Module Test B'\n",
    "echo \"This file is called $TEST\"\n",
    "echo \" \"\n",
    "echo \"Hello <name>\"\n",
    "echo  'Good luck with Module Test B ' \n",
    "\n",
    "git init\n",
    "git add explore.sh\n",
    "git commit -m \"A message about what's changed in this revision\"\n",
    "git push\n",
    "git status"
   ]
  },
  {
   "cell_type": "markdown",
   "metadata": {},
   "source": [
    "### Question 3&nbsp;&nbsp;&nbsp;&nbsp;&nbsp;&nbsp;(15 Points)"
   ]
  },
  {
   "cell_type": "raw",
   "metadata": {
    "tags": []
   },
   "source": [
    "# Write your test cases and comments here\n",
    "\n",
    "# Test the function can return the difference between a float and an int.\n",
    "diff = absolute_difference(1.0, 2)\n",
    "# Test the function can return the difference between a 0 and an int.\n",
    "diff = absolute_difference(0, 2)\n",
    "# Test the function can return the difference between a positive int and a negative int.\n",
    "diff = absolute_difference(-1, 2)"
   ]
  },
  {
   "cell_type": "markdown",
   "metadata": {
    "tags": []
   },
   "source": [
    "### Question 4&nbsp;&nbsp;&nbsp;&nbsp;&nbsp;&nbsp;(15 Points)\n",
    "\n"
   ]
  },
  {
   "cell_type": "raw",
   "metadata": {},
   "source": [
    "# Write your debugging steps here\n",
    "import pdb\n",
    "pdb.set_trace()"
   ]
  },
  {
   "cell_type": "code",
   "execution_count": 12,
   "metadata": {},
   "outputs": [],
   "source": [
    "# Write your corrected program here:\n",
    "\n",
    "def absolute_difference (a, b):\n",
    "\n",
    "    if (a < b):\n",
    "        c = b\n",
    "        d = a\n",
    "        \n",
    "    return c-d\n",
    "\n"
   ]
  },
  {
   "cell_type": "markdown",
   "metadata": {},
   "source": [
    "## Part II - Higher Order Question\n",
    "\n",
    "### Question 5&nbsp;&nbsp;&nbsp;&nbsp;&nbsp;&nbsp;(40 Points)"
   ]
  },
  {
   "cell_type": "raw",
   "metadata": {
    "tags": []
   },
   "source": [
    "# Write your shell and git commands here for all steps in this question.\n",
    "\n",
    "git branch readme\n",
    "git checkout readme\n",
    "cd qn-1\n",
    "mv submit.txt submit-checklist.txt\n",
    "echo \"Finally, ensure that you push your changes to GitHub.\" >> submit-checklist.txt\n",
    "cd qn-5\n",
    "touch README.md\n",
    "echo '# This ReadMe contains important information. ' >> README.md\n",
    "mkdir basement\n",
    "cp README.md README.txt\n",
    "touch list-readme.sh\n",
    "\n",
    "git init\n",
    "git add submit-checklist.txt README.md readme-files.txt\n",
    "git commit -m \"A message about what's changed in this revision\"\n",
    "git push\n",
    "git status\n",
    "git checkout main\n",
    "git merge readme"
   ]
  },
  {
   "cell_type": "markdown",
   "metadata": {},
   "source": [
    "Your solution to this question should **also** include the file, **list-readme.sh**, added to your repository."
   ]
  },
  {
   "cell_type": "markdown",
   "metadata": {},
   "source": [
    "<!-- END QUESTION -->\n",
    "\n"
   ]
  }
 ],
 "metadata": {
  "celltoolbar": "Edit Metadata",
  "kernelspec": {
   "display_name": "Python 3",
   "language": "python",
   "name": "python3"
  },
  "language_info": {
   "codemirror_mode": {
    "name": "ipython",
    "version": 3
   },
   "file_extension": ".py",
   "mimetype": "text/x-python",
   "name": "python",
   "nbconvert_exporter": "python",
   "pygments_lexer": "ipython3",
   "version": "3.6.12"
  },
  "varInspector": {
   "cols": {
    "lenName": 16,
    "lenType": 16,
    "lenVar": 40
   },
   "kernels_config": {
    "python": {
     "delete_cmd_postfix": "",
     "delete_cmd_prefix": "del ",
     "library": "var_list.py",
     "varRefreshCmd": "print(var_dic_list())"
    },
    "r": {
     "delete_cmd_postfix": ") ",
     "delete_cmd_prefix": "rm(",
     "library": "var_list.r",
     "varRefreshCmd": "cat(var_dic_list()) "
    }
   },
   "types_to_exclude": [
    "module",
    "function",
    "builtin_function_or_method",
    "instance",
    "_Feature"
   ],
   "window_display": false
  }
 },
 "nbformat": 4,
 "nbformat_minor": 4
}
